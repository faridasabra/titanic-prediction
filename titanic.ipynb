{
 "cells": [
  {
   "cell_type": "markdown",
   "id": "18af06fb",
   "metadata": {
    "papermill": {
     "duration": 0.006132,
     "end_time": "2025-07-29T14:26:48.355044",
     "exception": false,
     "start_time": "2025-07-29T14:26:48.348912",
     "status": "completed"
    },
    "tags": []
   },
   "source": [
    "# **Titanic Survival Prediction**\n",
    "### **Introduction**\n",
    "The sinking of the Titanic remains one of history's most tragic maritime disasters. On April 15, 1912, the \"unsinkable\" RMS Titanic struck an iceberg and sank, resulting in the deaths of 1,502 out of 2,224 passengers and crew. The limited number of lifeboats meant survival often depended on socioeconomic status, gender, age, and chance.\n",
    "\n",
    "This analysis investigates which factors most influenced survival and builds a predictive model to answer:\n",
    "* \"What types of passengers were most likely to survive the Titanic disaster?\""
   ]
  },
  {
   "cell_type": "markdown",
   "id": "ec6b6eec",
   "metadata": {
    "papermill": {
     "duration": 0.004809,
     "end_time": "2025-07-29T14:26:48.365356",
     "exception": false,
     "start_time": "2025-07-29T14:26:48.360547",
     "status": "completed"
    },
    "tags": []
   },
   "source": [
    "### **Part 1: Setup & Importing Libraries**"
   ]
  },
  {
   "cell_type": "code",
   "execution_count": 1,
   "id": "c2e4fa86",
   "metadata": {
    "_cell_guid": "b1076dfc-b9ad-4769-8c92-a6c4dae69d19",
    "_uuid": "8f2839f25d086af736a60e9eeb907d3b93b6e0e5",
    "execution": {
     "iopub.execute_input": "2025-07-29T14:26:48.376749Z",
     "iopub.status.busy": "2025-07-29T14:26:48.376455Z",
     "iopub.status.idle": "2025-07-29T14:26:52.328415Z",
     "shell.execute_reply": "2025-07-29T14:26:52.327498Z"
    },
    "papermill": {
     "duration": 3.959621,
     "end_time": "2025-07-29T14:26:52.330133",
     "exception": false,
     "start_time": "2025-07-29T14:26:48.370512",
     "status": "completed"
    },
    "tags": []
   },
   "outputs": [],
   "source": [
    "import numpy as np\n",
    "import pandas as pd\n",
    "import matplotlib.pyplot as plt\n",
    "import seaborn as sns\n",
    "from sklearn.ensemble import RandomForestClassifier\n",
    "from sklearn.model_selection import cross_val_score, train_test_split\n",
    "from sklearn.preprocessing import OneHotEncoder, StandardScaler\n",
    "from sklearn.impute import SimpleImputer, KNNImputer\n",
    "from sklearn.pipeline import Pipeline\n",
    "from sklearn.compose import ColumnTransformer\n",
    "from sklearn.metrics import accuracy_score, confusion_matrix, classification_report\n",
    "import warnings\n",
    "warnings.filterwarnings('ignore')\n",
    "\n",
    "sns.set_style('whitegrid')\n",
    "plt.rcParams['figure.figsize'] = (10, 6)"
   ]
  },
  {
   "cell_type": "markdown",
   "id": "d9ac388e",
   "metadata": {
    "papermill": {
     "duration": 0.004857,
     "end_time": "2025-07-29T14:26:52.340701",
     "exception": false,
     "start_time": "2025-07-29T14:26:52.335844",
     "status": "completed"
    },
    "tags": []
   },
   "source": [
    "### **Part 2: Data Loading & Feature Engineering**"
   ]
  },
  {
   "cell_type": "code",
   "execution_count": 2,
   "id": "7b9cf8e1",
   "metadata": {
    "execution": {
     "iopub.execute_input": "2025-07-29T14:26:52.352986Z",
     "iopub.status.busy": "2025-07-29T14:26:52.352593Z",
     "iopub.status.idle": "2025-07-29T14:26:52.391540Z",
     "shell.execute_reply": "2025-07-29T14:26:52.390458Z"
    },
    "papermill": {
     "duration": 0.046089,
     "end_time": "2025-07-29T14:26:52.392875",
     "exception": false,
     "start_time": "2025-07-29T14:26:52.346786",
     "status": "completed"
    },
    "tags": []
   },
   "outputs": [
    {
     "name": "stdout",
     "output_type": "stream",
     "text": [
      "Training Data\n",
      "Shape: (891, 12)\n",
      "Columns: ['PassengerId', 'Survived', 'Pclass', 'Name', 'Sex', 'Age', 'SibSp', 'Parch', 'Ticket', 'Fare', 'Cabin', 'Embarked']\n",
      "\n",
      "Test Data\n",
      "Shape: (418, 11)\n",
      "Columns: ['PassengerId', 'Pclass', 'Name', 'Sex', 'Age', 'SibSp', 'Parch', 'Ticket', 'Fare', 'Cabin', 'Embarked']\n",
      "\n",
      "Missing Values\n",
      "Training Set:\n",
      "PassengerId      0\n",
      "Survived         0\n",
      "Pclass           0\n",
      "Name             0\n",
      "Sex              0\n",
      "Age            177\n",
      "SibSp            0\n",
      "Parch            0\n",
      "Ticket           0\n",
      "Fare             0\n",
      "Cabin          687\n",
      "Embarked         2\n",
      "dtype: int64\n",
      "\n",
      "Test Set:\n",
      "PassengerId      0\n",
      "Pclass           0\n",
      "Name             0\n",
      "Sex              0\n",
      "Age             86\n",
      "SibSp            0\n",
      "Parch            0\n",
      "Ticket           0\n",
      "Fare             1\n",
      "Cabin          327\n",
      "Embarked         0\n",
      "dtype: int64\n"
     ]
    }
   ],
   "source": [
    "train = pd.read_csv('/kaggle/input/titanic/train.csv')\n",
    "test = pd.read_csv('/kaggle/input/titanic/test.csv')\n",
    "\n",
    "print(\"Training Data\")\n",
    "print(f\"Shape: {train.shape}\")\n",
    "print(f\"Columns: {train.columns.tolist()}\")\n",
    "print(\"\\nTest Data\")\n",
    "print(f\"Shape: {test.shape}\")\n",
    "print(f\"Columns: {test.columns.tolist()}\")\n",
    "\n",
    "print(\"\\nMissing Values\")\n",
    "print(\"Training Set:\")\n",
    "print(train.isnull().sum())\n",
    "print(\"\\nTest Set:\")\n",
    "print(test.isnull().sum())"
   ]
  },
  {
   "cell_type": "markdown",
   "id": "3acad5d8",
   "metadata": {
    "papermill": {
     "duration": 0.004782,
     "end_time": "2025-07-29T14:26:52.402958",
     "exception": false,
     "start_time": "2025-07-29T14:26:52.398176",
     "status": "completed"
    },
    "tags": []
   },
   "source": [
    "#### **Handling Missing Values**"
   ]
  },
  {
   "cell_type": "code",
   "execution_count": 3,
   "id": "45447392",
   "metadata": {
    "execution": {
     "iopub.execute_input": "2025-07-29T14:26:52.414454Z",
     "iopub.status.busy": "2025-07-29T14:26:52.414201Z",
     "iopub.status.idle": "2025-07-29T14:26:52.418981Z",
     "shell.execute_reply": "2025-07-29T14:26:52.418133Z"
    },
    "papermill": {
     "duration": 0.01163,
     "end_time": "2025-07-29T14:26:52.420305",
     "exception": false,
     "start_time": "2025-07-29T14:26:52.408675",
     "status": "completed"
    },
    "tags": []
   },
   "outputs": [
    {
     "name": "stdout",
     "output_type": "stream",
     "text": [
      "Training Data Columns:\n",
      "['PassengerId', 'Survived', 'Pclass', 'Name', 'Sex', 'Age', 'SibSp', 'Parch', 'Ticket', 'Fare', 'Cabin', 'Embarked']\n",
      "\n",
      "Test Data Columns:\n",
      "['PassengerId', 'Pclass', 'Name', 'Sex', 'Age', 'SibSp', 'Parch', 'Ticket', 'Fare', 'Cabin', 'Embarked']\n"
     ]
    }
   ],
   "source": [
    "print(\"Training Data Columns:\")\n",
    "print(train.columns.tolist())\n",
    "\n",
    "print(\"\\nTest Data Columns:\")\n",
    "print(test.columns.tolist())"
   ]
  },
  {
   "cell_type": "markdown",
   "id": "9904046c",
   "metadata": {
    "papermill": {
     "duration": 0.00499,
     "end_time": "2025-07-29T14:26:52.430523",
     "exception": false,
     "start_time": "2025-07-29T14:26:52.425533",
     "status": "completed"
    },
    "tags": []
   },
   "source": [
    "#### **1. Age**\n",
    "* **Approach:** Impute with median age grouped by Title (Mr, Mrs, Miss, etc.) since different titles have different typical ages."
   ]
  },
  {
   "cell_type": "code",
   "execution_count": 4,
   "id": "7d452d72",
   "metadata": {
    "execution": {
     "iopub.execute_input": "2025-07-29T14:26:52.441466Z",
     "iopub.status.busy": "2025-07-29T14:26:52.441204Z",
     "iopub.status.idle": "2025-07-29T14:26:52.455538Z",
     "shell.execute_reply": "2025-07-29T14:26:52.454647Z"
    },
    "papermill": {
     "duration": 0.021402,
     "end_time": "2025-07-29T14:26:52.456815",
     "exception": false,
     "start_time": "2025-07-29T14:26:52.435413",
     "status": "completed"
    },
    "tags": []
   },
   "outputs": [
    {
     "name": "stdout",
     "output_type": "stream",
     "text": [
      "Unique Titles:\n",
      "['Mr' 'Mrs' 'Miss' 'Master' 'Don' 'Rev' 'Dr' 'Mme' 'Ms' 'Major' 'Lady'\n",
      " 'Sir' 'Mlle' 'Col' 'Capt' 'the Countess' 'Jonkheer' 'Dona']\n"
     ]
    }
   ],
   "source": [
    "def extract_title(name):\n",
    "    return name.split(', ')[1].split('.')[0].strip()\n",
    "\n",
    "for df in [train, test]:\n",
    "    df['Title'] = df['Name'].apply(extract_title)\n",
    "\n",
    "print(\"Unique Titles:\")\n",
    "print(pd.concat([train['Title'], test['Title']]).unique())"
   ]
  },
  {
   "cell_type": "code",
   "execution_count": 5,
   "id": "39a16343",
   "metadata": {
    "execution": {
     "iopub.execute_input": "2025-07-29T14:26:52.468304Z",
     "iopub.status.busy": "2025-07-29T14:26:52.468015Z",
     "iopub.status.idle": "2025-07-29T14:26:52.480004Z",
     "shell.execute_reply": "2025-07-29T14:26:52.479365Z"
    },
    "papermill": {
     "duration": 0.018985,
     "end_time": "2025-07-29T14:26:52.481142",
     "exception": false,
     "start_time": "2025-07-29T14:26:52.462157",
     "status": "completed"
    },
    "tags": []
   },
   "outputs": [
    {
     "name": "stdout",
     "output_type": "stream",
     "text": [
      "\n",
      "Title Counts (After Consolidation):\n",
      "Title\n",
      "Mr        517\n",
      "Miss      185\n",
      "Mrs       126\n",
      "Master     40\n",
      "Rare       22\n",
      "Name: count, dtype: int64\n"
     ]
    }
   ],
   "source": [
    "# Define title groupings\n",
    "title_mapping = {\n",
    "    'Mr': 'Mr',\n",
    "    'Miss': 'Miss',\n",
    "    'Mrs': 'Mrs',\n",
    "    'Master': 'Master',\n",
    "    'Mlle': 'Miss',       # French \"Mademoiselle\" = Miss\n",
    "    'Ms': 'Miss',\n",
    "    'Mme': 'Mrs',         # French \"Madame\" = Mrs\n",
    "    'Dr': 'Rare',\n",
    "    'Rev': 'Rare',\n",
    "    'Col': 'Rare',\n",
    "    'Major': 'Rare',\n",
    "    'Lady': 'Rare',\n",
    "    'Sir': 'Rare',\n",
    "    'Don': 'Rare',\n",
    "    'Countess': 'Rare',\n",
    "    'Jonkheer': 'Rare',\n",
    "    'Dona': 'Rare',       # Spanish honorific\n",
    "    'Capt': 'Rare'        # Captain\n",
    "}\n",
    "\n",
    "# Apply mapping\n",
    "for df in [train, test]:\n",
    "    df['Title'] = df['Title'].map(title_mapping)\n",
    "\n",
    "# Verify counts\n",
    "print(\"\\nTitle Counts (After Consolidation):\")\n",
    "print(train['Title'].value_counts())"
   ]
  },
  {
   "cell_type": "code",
   "execution_count": 6,
   "id": "9facbd16",
   "metadata": {
    "execution": {
     "iopub.execute_input": "2025-07-29T14:26:52.492502Z",
     "iopub.status.busy": "2025-07-29T14:26:52.492258Z",
     "iopub.status.idle": "2025-07-29T14:26:52.513843Z",
     "shell.execute_reply": "2025-07-29T14:26:52.513280Z"
    },
    "papermill": {
     "duration": 0.02858,
     "end_time": "2025-07-29T14:26:52.514974",
     "exception": false,
     "start_time": "2025-07-29T14:26:52.486394",
     "status": "completed"
    },
    "tags": []
   },
   "outputs": [],
   "source": [
    "title_age_median = train.groupby('Title')['Age'].median()\n",
    "\n",
    "for df in [train, test]:\n",
    "    df['Age'] = df.apply(\n",
    "        lambda row: title_age_median[row['Title']] if pd.isnull(row['Age']) else row['Age'],\n",
    "        axis=1\n",
    "    )"
   ]
  },
  {
   "cell_type": "markdown",
   "id": "a7ddb8b2",
   "metadata": {
    "papermill": {
     "duration": 0.005143,
     "end_time": "2025-07-29T14:26:52.525484",
     "exception": false,
     "start_time": "2025-07-29T14:26:52.520341",
     "status": "completed"
    },
    "tags": []
   },
   "source": [
    "#### **2. Cabin**\n",
    "* **Approach:** Drop the original cabin column as it has too many missing values, and create a new binary feature HasCabin (1 if cabin is known, 0 if missing)."
   ]
  },
  {
   "cell_type": "code",
   "execution_count": 7,
   "id": "b95a70d5",
   "metadata": {
    "execution": {
     "iopub.execute_input": "2025-07-29T14:26:52.536614Z",
     "iopub.status.busy": "2025-07-29T14:26:52.536348Z",
     "iopub.status.idle": "2025-07-29T14:26:52.550193Z",
     "shell.execute_reply": "2025-07-29T14:26:52.549380Z"
    },
    "papermill": {
     "duration": 0.020881,
     "end_time": "2025-07-29T14:26:52.551503",
     "exception": false,
     "start_time": "2025-07-29T14:26:52.530622",
     "status": "completed"
    },
    "tags": []
   },
   "outputs": [
    {
     "name": "stdout",
     "output_type": "stream",
     "text": [
      "Training missing after drop:\n",
      " PassengerId    0\n",
      "Survived       0\n",
      "Pclass         0\n",
      "Name           0\n",
      "Sex            0\n",
      "Age            0\n",
      "SibSp          0\n",
      "Parch          0\n",
      "Ticket         0\n",
      "Fare           0\n",
      "Embarked       2\n",
      "Title          1\n",
      "Deck           0\n",
      "HasCabin       0\n",
      "dtype: int64\n",
      "\n",
      "Test missing after drop:\n",
      " PassengerId    0\n",
      "Pclass         0\n",
      "Name           0\n",
      "Sex            0\n",
      "Age            0\n",
      "SibSp          0\n",
      "Parch          0\n",
      "Ticket         0\n",
      "Fare           1\n",
      "Embarked       0\n",
      "Title          0\n",
      "Deck           0\n",
      "HasCabin       0\n",
      "dtype: int64\n"
     ]
    }
   ],
   "source": [
    "for df in [train, test]:\n",
    "    df['Deck'] = df['Cabin'].str[0].fillna('Unknown')\n",
    "    df['HasCabin'] = df['Cabin'].notna().astype(int)\n",
    "    \n",
    "    df.drop('Cabin', axis=1, inplace=True)\n",
    "\n",
    "print(\"Training missing after drop:\\n\", train.isnull().sum())\n",
    "print(\"\\nTest missing after drop:\\n\", test.isnull().sum())"
   ]
  },
  {
   "cell_type": "markdown",
   "id": "be119611",
   "metadata": {
    "papermill": {
     "duration": 0.005362,
     "end_time": "2025-07-29T14:26:52.562181",
     "exception": false,
     "start_time": "2025-07-29T14:26:52.556819",
     "status": "completed"
    },
    "tags": []
   },
   "source": [
    "#### **3. Embarked**\n",
    "* **Approach:** Fill with most frequent value as there are only 2 missing values."
   ]
  },
  {
   "cell_type": "code",
   "execution_count": 8,
   "id": "e6915838",
   "metadata": {
    "execution": {
     "iopub.execute_input": "2025-07-29T14:26:52.574291Z",
     "iopub.status.busy": "2025-07-29T14:26:52.573544Z",
     "iopub.status.idle": "2025-07-29T14:26:52.578477Z",
     "shell.execute_reply": "2025-07-29T14:26:52.577646Z"
    },
    "papermill": {
     "duration": 0.012202,
     "end_time": "2025-07-29T14:26:52.579721",
     "exception": false,
     "start_time": "2025-07-29T14:26:52.567519",
     "status": "completed"
    },
    "tags": []
   },
   "outputs": [],
   "source": [
    "train['Embarked'].fillna('S', inplace=True)"
   ]
  },
  {
   "cell_type": "markdown",
   "id": "1625d245",
   "metadata": {
    "papermill": {
     "duration": 0.005132,
     "end_time": "2025-07-29T14:26:52.590071",
     "exception": false,
     "start_time": "2025-07-29T14:26:52.584939",
     "status": "completed"
    },
    "tags": []
   },
   "source": [
    "#### **4. Fare**\n",
    "* **Approach:** Fill with median fare of the passenger class. The higher the class, the more expensive the fare."
   ]
  },
  {
   "cell_type": "code",
   "execution_count": 9,
   "id": "ba17ab9b",
   "metadata": {
    "execution": {
     "iopub.execute_input": "2025-07-29T14:26:52.601469Z",
     "iopub.status.busy": "2025-07-29T14:26:52.601234Z",
     "iopub.status.idle": "2025-07-29T14:26:52.610532Z",
     "shell.execute_reply": "2025-07-29T14:26:52.609730Z"
    },
    "papermill": {
     "duration": 0.016479,
     "end_time": "2025-07-29T14:26:52.611791",
     "exception": false,
     "start_time": "2025-07-29T14:26:52.595312",
     "status": "completed"
    },
    "tags": []
   },
   "outputs": [],
   "source": [
    "class_fare_median = train.groupby('Pclass')['Fare'].median()\n",
    "\n",
    "test['Fare'] = test.apply(\n",
    "    lambda row: class_fare_median[row['Pclass']] if pd.isnull(row['Fare']) else row['Fare'],\n",
    "    axis=1\n",
    ")"
   ]
  },
  {
   "cell_type": "markdown",
   "id": "5daebf36",
   "metadata": {
    "papermill": {
     "duration": 0.005128,
     "end_time": "2025-07-29T14:26:52.622154",
     "exception": false,
     "start_time": "2025-07-29T14:26:52.617026",
     "status": "completed"
    },
    "tags": []
   },
   "source": [
    "#### **Missing Value Check**"
   ]
  },
  {
   "cell_type": "code",
   "execution_count": 10,
   "id": "0d936fd9",
   "metadata": {
    "execution": {
     "iopub.execute_input": "2025-07-29T14:26:52.633466Z",
     "iopub.status.busy": "2025-07-29T14:26:52.633226Z",
     "iopub.status.idle": "2025-07-29T14:26:52.640565Z",
     "shell.execute_reply": "2025-07-29T14:26:52.639592Z"
    },
    "papermill": {
     "duration": 0.014348,
     "end_time": "2025-07-29T14:26:52.641739",
     "exception": false,
     "start_time": "2025-07-29T14:26:52.627391",
     "status": "completed"
    },
    "tags": []
   },
   "outputs": [
    {
     "name": "stdout",
     "output_type": "stream",
     "text": [
      "\n",
      "Missing Values After Handling\n",
      "Training Set:\n",
      "PassengerId    0\n",
      "Survived       0\n",
      "Pclass         0\n",
      "Name           0\n",
      "Sex            0\n",
      "Age            0\n",
      "SibSp          0\n",
      "Parch          0\n",
      "Ticket         0\n",
      "Fare           0\n",
      "Embarked       0\n",
      "Title          1\n",
      "Deck           0\n",
      "HasCabin       0\n",
      "dtype: int64\n",
      "\n",
      "Test Set:\n",
      "PassengerId    0\n",
      "Pclass         0\n",
      "Name           0\n",
      "Sex            0\n",
      "Age            0\n",
      "SibSp          0\n",
      "Parch          0\n",
      "Ticket         0\n",
      "Fare           0\n",
      "Embarked       0\n",
      "Title          0\n",
      "Deck           0\n",
      "HasCabin       0\n",
      "dtype: int64\n"
     ]
    }
   ],
   "source": [
    "print(\"\\nMissing Values After Handling\")\n",
    "print(\"Training Set:\")\n",
    "print(train.isnull().sum())\n",
    "print(\"\\nTest Set:\")\n",
    "print(test.isnull().sum())"
   ]
  },
  {
   "cell_type": "markdown",
   "id": "722a1677",
   "metadata": {
    "papermill": {
     "duration": 0.005267,
     "end_time": "2025-07-29T14:26:52.652619",
     "exception": false,
     "start_time": "2025-07-29T14:26:52.647352",
     "status": "completed"
    },
    "tags": []
   },
   "source": [
    "*There are still 2 missing values in 'Embarked' and 1 in 'Title' in the training set.*"
   ]
  },
  {
   "cell_type": "markdown",
   "id": "d1b9a33d",
   "metadata": {
    "papermill": {
     "duration": 0.005275,
     "end_time": "2025-07-29T14:26:52.663259",
     "exception": false,
     "start_time": "2025-07-29T14:26:52.657984",
     "status": "completed"
    },
    "tags": []
   },
   "source": [
    "#### **5. Handling Embarked in Training Set**\n",
    "* **Approach:** Fill with mode since it's categorical."
   ]
  },
  {
   "cell_type": "code",
   "execution_count": 11,
   "id": "02531f14",
   "metadata": {
    "execution": {
     "iopub.execute_input": "2025-07-29T14:26:52.674661Z",
     "iopub.status.busy": "2025-07-29T14:26:52.674396Z",
     "iopub.status.idle": "2025-07-29T14:26:52.680714Z",
     "shell.execute_reply": "2025-07-29T14:26:52.679686Z"
    },
    "papermill": {
     "duration": 0.01357,
     "end_time": "2025-07-29T14:26:52.682057",
     "exception": false,
     "start_time": "2025-07-29T14:26:52.668487",
     "status": "completed"
    },
    "tags": []
   },
   "outputs": [
    {
     "name": "stdout",
     "output_type": "stream",
     "text": [
      "Filled 0 missing 'Embarked' values with 'S'\n"
     ]
    }
   ],
   "source": [
    "most_common_embarked = train['Embarked'].mode()[0]  # Returns 'S' (Southampton)\n",
    "\n",
    "train['Embarked'].fillna(most_common_embarked, inplace=True)\n",
    "\n",
    "print(f\"Filled {train['Embarked'].isnull().sum()} missing 'Embarked' values with '{most_common_embarked}'\")"
   ]
  },
  {
   "cell_type": "markdown",
   "id": "080faf9c",
   "metadata": {
    "papermill": {
     "duration": 0.005339,
     "end_time": "2025-07-29T14:26:52.693029",
     "exception": false,
     "start_time": "2025-07-29T14:26:52.687690",
     "status": "completed"
    },
    "tags": []
   },
   "source": [
    "#### **6. Handling Title in Training Set**\n",
    "* **Approach:** Extract from name as it's most likely due to an unusual name format."
   ]
  },
  {
   "cell_type": "code",
   "execution_count": 12,
   "id": "4829ffc1",
   "metadata": {
    "execution": {
     "iopub.execute_input": "2025-07-29T14:26:52.705052Z",
     "iopub.status.busy": "2025-07-29T14:26:52.704753Z",
     "iopub.status.idle": "2025-07-29T14:26:52.717541Z",
     "shell.execute_reply": "2025-07-29T14:26:52.716538Z"
    },
    "papermill": {
     "duration": 0.020639,
     "end_time": "2025-07-29T14:26:52.719010",
     "exception": false,
     "start_time": "2025-07-29T14:26:52.698371",
     "status": "completed"
    },
    "tags": []
   },
   "outputs": [
    {
     "name": "stdout",
     "output_type": "stream",
     "text": [
      "Row with missing Title:\n",
      "     PassengerId                                               Name\n",
      "759          760  Rothes, the Countess. of (Lucy Noel Martha Dye...\n",
      "Filled missing Title with 'the Countess'\n",
      "\n",
      "Remaining missing Titles: 0\n"
     ]
    }
   ],
   "source": [
    "missing_title_row = train[train['Title'].isnull()] # check which row has missing title\n",
    "\n",
    "if not missing_title_row.empty: # extract title manually\n",
    "    print(\"Row with missing Title:\")\n",
    "    print(missing_title_row[['PassengerId', 'Name']])\n",
    "    \n",
    "    name = missing_title_row['Name'].values[0]\n",
    "    extracted_title = name.split(', ')[1].split('.')[0].strip()\n",
    "    \n",
    "    train.loc[train['Title'].isnull(), 'Title'] = extracted_title\n",
    "    print(f\"Filled missing Title with '{extracted_title}'\")\n",
    "\n",
    "print(\"\\nRemaining missing Titles:\", train['Title'].isnull().sum())"
   ]
  },
  {
   "cell_type": "markdown",
   "id": "c2bfd623",
   "metadata": {
    "papermill": {
     "duration": 0.005246,
     "end_time": "2025-07-29T14:26:52.729799",
     "exception": false,
     "start_time": "2025-07-29T14:26:52.724553",
     "status": "completed"
    },
    "tags": []
   },
   "source": [
    "#### **Final Missing Value Check**"
   ]
  },
  {
   "cell_type": "code",
   "execution_count": 13,
   "id": "2e554092",
   "metadata": {
    "execution": {
     "iopub.execute_input": "2025-07-29T14:26:52.741352Z",
     "iopub.status.busy": "2025-07-29T14:26:52.741058Z",
     "iopub.status.idle": "2025-07-29T14:26:52.748747Z",
     "shell.execute_reply": "2025-07-29T14:26:52.747784Z"
    },
    "papermill": {
     "duration": 0.014945,
     "end_time": "2025-07-29T14:26:52.750074",
     "exception": false,
     "start_time": "2025-07-29T14:26:52.735129",
     "status": "completed"
    },
    "tags": []
   },
   "outputs": [
    {
     "name": "stdout",
     "output_type": "stream",
     "text": [
      "Final Missing Values\n",
      "Training Set:\n",
      "PassengerId    0\n",
      "Survived       0\n",
      "Pclass         0\n",
      "Name           0\n",
      "Sex            0\n",
      "Age            0\n",
      "SibSp          0\n",
      "Parch          0\n",
      "Ticket         0\n",
      "Fare           0\n",
      "Embarked       0\n",
      "Title          0\n",
      "Deck           0\n",
      "HasCabin       0\n",
      "dtype: int64\n",
      "\n",
      "Test Set:\n",
      "PassengerId    0\n",
      "Pclass         0\n",
      "Name           0\n",
      "Sex            0\n",
      "Age            0\n",
      "SibSp          0\n",
      "Parch          0\n",
      "Ticket         0\n",
      "Fare           0\n",
      "Embarked       0\n",
      "Title          0\n",
      "Deck           0\n",
      "HasCabin       0\n",
      "dtype: int64\n"
     ]
    }
   ],
   "source": [
    "print(\"Final Missing Values\")\n",
    "print(\"Training Set:\")\n",
    "print(train.isnull().sum())\n",
    "\n",
    "print(\"\\nTest Set:\")\n",
    "print(test.isnull().sum())"
   ]
  },
  {
   "cell_type": "markdown",
   "id": "36c1e438",
   "metadata": {
    "papermill": {
     "duration": 0.005338,
     "end_time": "2025-07-29T14:26:52.760951",
     "exception": false,
     "start_time": "2025-07-29T14:26:52.755613",
     "status": "completed"
    },
    "tags": []
   },
   "source": [
    "*Dataset is now ready for analysis.*"
   ]
  },
  {
   "cell_type": "markdown",
   "id": "76bb7f87",
   "metadata": {
    "papermill": {
     "duration": 0.005238,
     "end_time": "2025-07-29T14:26:52.771548",
     "exception": false,
     "start_time": "2025-07-29T14:26:52.766310",
     "status": "completed"
    },
    "tags": []
   },
   "source": [
    "### **Part 3: Exploratory Data Analysis**"
   ]
  },
  {
   "cell_type": "markdown",
   "id": "68cff04f",
   "metadata": {
    "papermill": {
     "duration": 0.005224,
     "end_time": "2025-07-29T14:26:52.782084",
     "exception": false,
     "start_time": "2025-07-29T14:26:52.776860",
     "status": "completed"
    },
    "tags": []
   },
   "source": [
    "#### **3.1 Target Variable Distribution**"
   ]
  },
  {
   "cell_type": "code",
   "execution_count": 14,
   "id": "3d41286e",
   "metadata": {
    "execution": {
     "iopub.execute_input": "2025-07-29T14:26:52.793990Z",
     "iopub.status.busy": "2025-07-29T14:26:52.793768Z",
     "iopub.status.idle": "2025-07-29T14:26:53.035677Z",
     "shell.execute_reply": "2025-07-29T14:26:53.034868Z"
    },
    "papermill": {
     "duration": 0.249456,
     "end_time": "2025-07-29T14:26:53.037017",
     "exception": false,
     "start_time": "2025-07-29T14:26:52.787561",
     "status": "completed"
    },
    "tags": []
   },
   "outputs": [
    {
     "data": {
      "image/png": "[encoded data removed]",
      "text/plain": [
       "<Figure size 800x500 with 1 Axes>"
      ]
     },
     "metadata": {},
     "output_type": "display_data"
    },
    {
     "name": "stdout",
     "output_type": "stream",
     "text": [
      "Overall Survival Rate: 38.38%\n"
     ]
    }
   ],
   "source": [
    "plt.figure(figsize=(8, 5))\n",
    "sns.countplot(\n",
    "    x='Survived', \n",
    "    data=train, \n",
    "    palette=sns.cubehelix_palette(n_colors=2)  # Cubehelix with 2 colors\n",
    ")\n",
    "plt.title('Survival Distribution (0 = Died, 1 = Survived)')\n",
    "plt.show()\n",
    "\n",
    "survival_rate = train['Survived'].mean()\n",
    "print(f\"Overall Survival Rate: {survival_rate:.2%}\")"
   ]
  },
  {
   "cell_type": "markdown",
   "id": "2366ead4",
   "metadata": {
    "papermill": {
     "duration": 0.005834,
     "end_time": "2025-07-29T14:26:53.049356",
     "exception": false,
     "start_time": "2025-07-29T14:26:53.043522",
     "status": "completed"
    },
    "tags": []
   },
   "source": [
    "#### **3.2 Key Feature Analysis**"
   ]
  },
  {
   "cell_type": "code",
   "execution_count": 15,
   "id": "f089ad72",
   "metadata": {
    "execution": {
     "iopub.execute_input": "2025-07-29T14:26:53.062017Z",
     "iopub.status.busy": "2025-07-29T14:26:53.061766Z",
     "iopub.status.idle": "2025-07-29T14:26:54.213940Z",
     "shell.execute_reply": "2025-07-29T14:26:54.213080Z"
    },
    "papermill": {
     "duration": 1.160187,
     "end_time": "2025-07-29T14:26:54.215381",
     "exception": false,
     "start_time": "2025-07-29T14:26:53.055194",
     "status": "completed"
    },
    "tags": []
   },
   "outputs": [
    {
     "data": {
      "image/png": "[encoded data removed]",
      "text/plain": [
       "<Figure size 1000x500 with 1 Axes>"
      ]
     },
     "metadata": {},
     "output_type": "display_data"
    },
    {
     "name": "stdout",
     "output_type": "stream",
     "text": [
      "Title\n",
      "Master          0.575000\n",
      "Miss            0.702703\n",
      "Mr              0.156673\n",
      "Mrs             0.793651\n",
      "Rare            0.318182\n",
      "the Countess    1.000000\n",
      "Name: Survived, dtype: float64\n"
     ]
    },
    {
     "data": {
      "image/png": "[encoded data removed]",
      "text/plain": [
       "<Figure size 1000x500 with 1 Axes>"
      ]
     },
     "metadata": {},
     "output_type": "display_data"
    },
    {
     "name": "stdout",
     "output_type": "stream",
     "text": [
      "Pclass\n",
      "1    0.629630\n",
      "2    0.472826\n",
      "3    0.242363\n",
      "Name: Survived, dtype: float64\n"
     ]
    },
    {
     "data": {
      "image/png": "[encoded data removed]",
      "text/plain": [
       "<Figure size 1000x500 with 1 Axes>"
      ]
     },
     "metadata": {},
     "output_type": "display_data"
    },
    {
     "name": "stdout",
     "output_type": "stream",
     "text": [
      "Sex\n",
      "female    0.742038\n",
      "male      0.188908\n",
      "Name: Survived, dtype: float64\n"
     ]
    },
    {
     "data": {
      "image/png": "[encoded data removed]",
      "text/plain": [
       "<Figure size 1000x500 with 1 Axes>"
      ]
     },
     "metadata": {},
     "output_type": "display_data"
    },
    {
     "data": {
      "image/png": "[encoded data removed]",
      "text/plain": [
       "<Figure size 1000x500 with 1 Axes>"
      ]
     },
     "metadata": {},
     "output_type": "display_data"
    },
    {
     "data": {
      "image/png": "[encoded data removed]",
      "text/plain": [
       "<Figure size 1000x500 with 1 Axes>"
      ]
     },
     "metadata": {},
     "output_type": "display_data"
    }
   ],
   "source": [
    "def plot_survival(feature, df=train):\n",
    "    plt.figure(figsize=(10, 5))\n",
    "    # Get cubehelix colors based on number of unique values in the feature\n",
    "    n_colors = len(df[feature].unique())\n",
    "    palette = sns.cubehelix_palette(n_colors=n_colors, start=1.5, rot=-0.3, dark=0.3, light=0.7)\n",
    "    \n",
    "    sns.barplot(\n",
    "        x=feature, \n",
    "        y='Survived', \n",
    "        data=df, \n",
    "        ci=None,\n",
    "        palette=palette  # Apply cubehelix palette here\n",
    "    )\n",
    "    plt.title(f'Survival Rate by {feature}')\n",
    "    plt.ylabel('Survival Probability')\n",
    "    plt.axhline(survival_rate, color='red', linestyle='--', label='Overall Survival')\n",
    "    plt.legend()\n",
    "    plt.show()\n",
    "\n",
    "# Calculate overall survival rate first\n",
    "survival_rate = train['Survived'].mean()\n",
    "\n",
    "plot_survival('Title')\n",
    "print(train.groupby('Title')['Survived'].mean())\n",
    "\n",
    "# Analyze Pclass\n",
    "plot_survival('Pclass')\n",
    "print(train.groupby('Pclass')['Survived'].mean())\n",
    "\n",
    "# Analyze Sex\n",
    "plot_survival('Sex')\n",
    "print(train.groupby('Sex')['Survived'].mean())\n",
    "\n",
    "# Analyze Age (binned)\n",
    "train['AgeBin'] = pd.cut(train['Age'], bins=[0, 12, 18, 60, 100], labels=['Child', 'Teen', 'Adult', 'Elderly'])\n",
    "plot_survival('AgeBin')\n",
    "\n",
    "plot_survival('Deck')\n",
    "plot_survival('HasCabin')"
   ]
  },
  {
   "cell_type": "markdown",
   "id": "b7eae58c",
   "metadata": {
    "papermill": {
     "duration": 0.008643,
     "end_time": "2025-07-29T14:26:54.233634",
     "exception": false,
     "start_time": "2025-07-29T14:26:54.224991",
     "status": "completed"
    },
    "tags": []
   },
   "source": [
    "#### **3.3 Family Feature Engineering**"
   ]
  },
  {
   "cell_type": "code",
   "execution_count": 16,
   "id": "9a8a5ad8",
   "metadata": {
    "execution": {
     "iopub.execute_input": "2025-07-29T14:26:54.252511Z",
     "iopub.status.busy": "2025-07-29T14:26:54.251992Z",
     "iopub.status.idle": "2025-07-29T14:26:54.437027Z",
     "shell.execute_reply": "2025-07-29T14:26:54.436156Z"
    },
    "papermill": {
     "duration": 0.196145,
     "end_time": "2025-07-29T14:26:54.438515",
     "exception": false,
     "start_time": "2025-07-29T14:26:54.242370",
     "status": "completed"
    },
    "tags": []
   },
   "outputs": [
    {
     "data": {
      "image/png": "[encoded data removed]",
      "text/plain": [
       "<Figure size 1000x500 with 1 Axes>"
      ]
     },
     "metadata": {},
     "output_type": "display_data"
    }
   ],
   "source": [
    "for df in [train, test]:\n",
    "    df['FamilySize'] = df['SibSp'] + df['Parch'] + 1\n",
    "    df['IsAlone'] = (df['FamilySize'] == 1).astype(int)\n",
    "    df['AgeBin'] = pd.cut(df['Age'], bins=[0, 12, 18, 35, 60, 100], labels=False)\n",
    "    df['FamilyType'] = pd.cut(df['FamilySize'], \n",
    "                             bins=[0, 1, 4, 20],\n",
    "                             labels=['Alone', 'Small', 'Large'])\n",
    "\n",
    "plot_survival('FamilyType')"
   ]
  },
  {
   "cell_type": "markdown",
   "id": "41fbe2bb",
   "metadata": {
    "papermill": {
     "duration": 0.009037,
     "end_time": "2025-07-29T14:26:54.456965",
     "exception": false,
     "start_time": "2025-07-29T14:26:54.447928",
     "status": "completed"
    },
    "tags": []
   },
   "source": [
    "*Small families (2-4) often had better survival rates than solo travelers or large groups.*"
   ]
  },
  {
   "cell_type": "markdown",
   "id": "0efbfd7e",
   "metadata": {
    "papermill": {
     "duration": 0.009204,
     "end_time": "2025-07-29T14:26:54.475194",
     "exception": false,
     "start_time": "2025-07-29T14:26:54.465990",
     "status": "completed"
    },
    "tags": []
   },
   "source": [
    "### **Part 4: Model Training & Evaluation**"
   ]
  },
  {
   "cell_type": "code",
   "execution_count": 17,
   "id": "6ec48b5f",
   "metadata": {
    "execution": {
     "iopub.execute_input": "2025-07-29T14:26:54.494683Z",
     "iopub.status.busy": "2025-07-29T14:26:54.494393Z",
     "iopub.status.idle": "2025-07-29T14:26:54.888704Z",
     "shell.execute_reply": "2025-07-29T14:26:54.887842Z"
    },
    "papermill": {
     "duration": 0.405504,
     "end_time": "2025-07-29T14:26:54.889909",
     "exception": false,
     "start_time": "2025-07-29T14:26:54.484405",
     "status": "completed"
    },
    "tags": []
   },
   "outputs": [
    {
     "name": "stdout",
     "output_type": "stream",
     "text": [
      "Accuracy: 0.82\n",
      "\n",
      "Classification Report:\n",
      "              precision    recall  f1-score   support\n",
      "\n",
      "           0       0.86      0.83      0.84       105\n",
      "           1       0.77      0.81      0.79        74\n",
      "\n",
      "    accuracy                           0.82       179\n",
      "   macro avg       0.82      0.82      0.82       179\n",
      "weighted avg       0.82      0.82      0.82       179\n",
      "\n"
     ]
    },
    {
     "data": {
      "image/png": "[encoded data removed]",
      "text/plain": [
       "<Figure size 1000x600 with 2 Axes>"
      ]
     },
     "metadata": {},
     "output_type": "display_data"
    }
   ],
   "source": [
    "features = ['Pclass', 'Sex', 'Age', 'Title', 'Deck', 'HasCabin', 'FamilySize', 'IsAlone']\n",
    "X = train[features]\n",
    "y = train['Survived']\n",
    "\n",
    "# Convert categoricals (simple version)\n",
    "X = pd.get_dummies(X, columns=['Sex', 'Title', 'Deck'])\n",
    "\n",
    "# Train-test split\n",
    "X_train, X_val, y_train, y_val = train_test_split(X, y, test_size=0.2, random_state=42)\n",
    "\n",
    "# Train model\n",
    "model = RandomForestClassifier()\n",
    "model.fit(X_train, y_train)\n",
    "\n",
    "# Evaluate\n",
    "preds = model.predict(X_val)\n",
    "print(f\"Accuracy: {accuracy_score(y_val, preds):.2f}\")\n",
    "print(\"\\nClassification Report:\")\n",
    "print(classification_report(y_val, preds))\n",
    "\n",
    "cm = confusion_matrix(y_val, preds)\n",
    "sns.heatmap(cm, annot=True, fmt='d', cmap='Blues')\n",
    "plt.title('Confusion Matrix')\n",
    "plt.xlabel('Predicted')\n",
    "plt.ylabel('Actual')\n",
    "plt.show()"
   ]
  },
  {
   "cell_type": "markdown",
   "id": "5183381a",
   "metadata": {
    "papermill": {
     "duration": 0.010023,
     "end_time": "2025-07-29T14:26:54.959962",
     "exception": false,
     "start_time": "2025-07-29T14:26:54.949939",
     "status": "completed"
    },
    "tags": []
   },
   "source": [
    "### **Part 5: Modeling Pipeline**"
   ]
  },
  {
   "cell_type": "code",
   "execution_count": 18,
   "id": "bf89b389",
   "metadata": {
    "execution": {
     "iopub.execute_input": "2025-07-29T14:26:54.981636Z",
     "iopub.status.busy": "2025-07-29T14:26:54.981337Z",
     "iopub.status.idle": "2025-07-29T14:26:55.228719Z",
     "shell.execute_reply": "2025-07-29T14:26:55.227844Z"
    },
    "papermill": {
     "duration": 0.259384,
     "end_time": "2025-07-29T14:26:55.229993",
     "exception": false,
     "start_time": "2025-07-29T14:26:54.970609",
     "status": "completed"
    },
    "tags": []
   },
   "outputs": [
    {
     "name": "stdout",
     "output_type": "stream",
     "text": [
      "=== First 20 Predictions ===\n"
     ]
    },
    {
     "data": {
      "text/html": [
       "<div>\n",
       "<style scoped>\n",
       "    .dataframe tbody tr th:only-of-type {\n",
       "        vertical-align: middle;\n",
       "    }\n",
       "\n",
       "    .dataframe tbody tr th {\n",
       "        vertical-align: top;\n",
       "    }\n",
       "\n",
       "    .dataframe thead th {\n",
       "        text-align: right;\n",
       "    }\n",
       "</style>\n",
       "<table border=\"1\" class=\"dataframe\">\n",
       "  <thead>\n",
       "    <tr style=\"text-align: right;\">\n",
       "      <th></th>\n",
       "      <th>PassengerId</th>\n",
       "      <th>Survived</th>\n",
       "    </tr>\n",
       "  </thead>\n",
       "  <tbody>\n",
       "    <tr>\n",
       "      <th>0</th>\n",
       "      <td>892</td>\n",
       "      <td>0</td>\n",
       "    </tr>\n",
       "    <tr>\n",
       "      <th>1</th>\n",
       "      <td>893</td>\n",
       "      <td>0</td>\n",
       "    </tr>\n",
       "    <tr>\n",
       "      <th>2</th>\n",
       "      <td>894</td>\n",
       "      <td>0</td>\n",
       "    </tr>\n",
       "    <tr>\n",
       "      <th>3</th>\n",
       "      <td>895</td>\n",
       "      <td>1</td>\n",
       "    </tr>\n",
       "    <tr>\n",
       "      <th>4</th>\n",
       "      <td>896</td>\n",
       "      <td>0</td>\n",
       "    </tr>\n",
       "    <tr>\n",
       "      <th>5</th>\n",
       "      <td>897</td>\n",
       "      <td>0</td>\n",
       "    </tr>\n",
       "    <tr>\n",
       "      <th>6</th>\n",
       "      <td>898</td>\n",
       "      <td>0</td>\n",
       "    </tr>\n",
       "    <tr>\n",
       "      <th>7</th>\n",
       "      <td>899</td>\n",
       "      <td>0</td>\n",
       "    </tr>\n",
       "    <tr>\n",
       "      <th>8</th>\n",
       "      <td>900</td>\n",
       "      <td>1</td>\n",
       "    </tr>\n",
       "    <tr>\n",
       "      <th>9</th>\n",
       "      <td>901</td>\n",
       "      <td>0</td>\n",
       "    </tr>\n",
       "    <tr>\n",
       "      <th>10</th>\n",
       "      <td>902</td>\n",
       "      <td>0</td>\n",
       "    </tr>\n",
       "    <tr>\n",
       "      <th>11</th>\n",
       "      <td>903</td>\n",
       "      <td>0</td>\n",
       "    </tr>\n",
       "    <tr>\n",
       "      <th>12</th>\n",
       "      <td>904</td>\n",
       "      <td>1</td>\n",
       "    </tr>\n",
       "    <tr>\n",
       "      <th>13</th>\n",
       "      <td>905</td>\n",
       "      <td>0</td>\n",
       "    </tr>\n",
       "    <tr>\n",
       "      <th>14</th>\n",
       "      <td>906</td>\n",
       "      <td>1</td>\n",
       "    </tr>\n",
       "    <tr>\n",
       "      <th>15</th>\n",
       "      <td>907</td>\n",
       "      <td>1</td>\n",
       "    </tr>\n",
       "    <tr>\n",
       "      <th>16</th>\n",
       "      <td>908</td>\n",
       "      <td>0</td>\n",
       "    </tr>\n",
       "    <tr>\n",
       "      <th>17</th>\n",
       "      <td>909</td>\n",
       "      <td>1</td>\n",
       "    </tr>\n",
       "    <tr>\n",
       "      <th>18</th>\n",
       "      <td>910</td>\n",
       "      <td>0</td>\n",
       "    </tr>\n",
       "    <tr>\n",
       "      <th>19</th>\n",
       "      <td>911</td>\n",
       "      <td>1</td>\n",
       "    </tr>\n",
       "  </tbody>\n",
       "</table>\n",
       "</div>"
      ],
      "text/plain": [
       "    PassengerId  Survived\n",
       "0           892         0\n",
       "1           893         0\n",
       "2           894         0\n",
       "3           895         1\n",
       "4           896         0\n",
       "5           897         0\n",
       "6           898         0\n",
       "7           899         0\n",
       "8           900         1\n",
       "9           901         0\n",
       "10          902         0\n",
       "11          903         0\n",
       "12          904         1\n",
       "13          905         0\n",
       "14          906         1\n",
       "15          907         1\n",
       "16          908         0\n",
       "17          909         1\n",
       "18          910         0\n",
       "19          911         1"
      ]
     },
     "metadata": {},
     "output_type": "display_data"
    },
    {
     "name": "stdout",
     "output_type": "stream",
     "text": [
      "\n",
      "=== Survival Count ===\n",
      "Survived\n",
      "0    257\n",
      "1    161\n",
      "Name: count, dtype: int64\n",
      "\n",
      "Predicted Survival: 38.52% (Training: 38.38%)\n"
     ]
    }
   ],
   "source": [
    "from sklearn.compose import ColumnTransformer\n",
    "from sklearn.pipeline import Pipeline\n",
    "from sklearn.impute import SimpleImputer\n",
    "from sklearn.preprocessing import OneHotEncoder, StandardScaler\n",
    "\n",
    "X_train = train.drop(['Survived', 'PassengerId', 'Name'], axis=1, errors='ignore')\n",
    "y_train = train['Survived']\n",
    "X_test = test.drop(['PassengerId', 'Name'], axis=1, errors='ignore')\n",
    "\n",
    "numeric_features = ['Age', 'Fare', 'SibSp', 'Parch', 'FamilySize']\n",
    "categorical_features = ['Pclass', 'Sex', 'Embarked', 'Title', 'AgeBin', 'IsAlone', 'FamilyType', 'Deck']\n",
    "\n",
    "numeric_transformer = Pipeline(steps=[\n",
    "    ('imputer', SimpleImputer(strategy='median')),\n",
    "    ('scaler', StandardScaler())\n",
    "])\n",
    "\n",
    "categorical_transformer = Pipeline(steps=[\n",
    "    ('imputer', SimpleImputer(strategy='most_frequent')),\n",
    "    ('onehot', OneHotEncoder(handle_unknown='ignore'))\n",
    "])\n",
    "\n",
    "preprocessor = ColumnTransformer(\n",
    "    transformers=[\n",
    "        ('num', numeric_transformer, numeric_features),\n",
    "        ('cat', categorical_transformer, categorical_features)\n",
    "    ],\n",
    "    remainder='drop'\n",
    ")\n",
    "\n",
    "pipeline = Pipeline(steps=[\n",
    "    ('preprocessor', preprocessor),\n",
    "    ('classifier', RandomForestClassifier())\n",
    "])\n",
    "\n",
    "pipeline.fit(X_train, y_train)\n",
    "\n",
    "test_pred = pipeline.predict(X_test)\n",
    "\n",
    "results = pd.DataFrame({\n",
    "    'PassengerId': test['PassengerId'], # This works because we saved the IDs\n",
    "    'Survived': test_pred\n",
    "})\n",
    "\n",
    "print(\"=== First 20 Predictions ===\")\n",
    "display(results.head(20))\n",
    "\n",
    "print(\"\\n=== Survival Count ===\")\n",
    "print(results['Survived'].value_counts())\n",
    "\n",
    "pred_rate = results['Survived'].mean()\n",
    "print(f\"\\nPredicted Survival: {pred_rate:.2%} (Training: {train['Survived'].mean():.2%})\")"
   ]
  }
 ],
 "metadata": {
  "kaggle": {
   "accelerator": "none",
   "dataSources": [
    {
     "databundleVersionId": 26502,
     "sourceId": 3136,
     "sourceType": "competition"
    }
   ],
   "dockerImageVersionId": 31089,
   "isGpuEnabled": false,
   "isInternetEnabled": true,
   "language": "python",
   "sourceType": "notebook"
  },
  "kernelspec": {
   "display_name": "Python 3",
   "language": "python",
   "name": "python3"
  },
  "language_info": {
   "codemirror_mode": {
    "name": "ipython",
    "version": 3
   },
   "file_extension": ".py",
   "mimetype": "text/x-python",
   "name": "python",
   "nbconvert_exporter": "python",
   "pygments_lexer": "ipython3",
   "version": "3.11.13"
  },
  "papermill": {
   "default_parameters": {},
   "duration": 11.696538,
   "end_time": "2025-07-29T14:26:55.758592",
   "environment_variables": {},
   "exception": null,
   "input_path": "__notebook__.ipynb",
   "output_path": "__notebook__.ipynb",
   "parameters": {},
   "start_time": "2025-07-29T14:26:44.062054",
   "version": "2.6.0"
  }
 },
 "nbformat": 4,
 "nbformat_minor": 5
}
